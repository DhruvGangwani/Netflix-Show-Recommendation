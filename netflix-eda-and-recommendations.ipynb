{
 "cells": [
  {
   "cell_type": "markdown",
   "metadata": {
    "papermill": {
     "duration": 0.030583,
     "end_time": "2021-01-12T12:26:12.243648",
     "exception": false,
     "start_time": "2021-01-12T12:26:12.213065",
     "status": "completed"
    },
    "tags": []
   },
   "source": [
    "# Import Data And Libraries"
   ]
  },
  {
   "cell_type": "code",
   "execution_count": 1,
   "metadata": {
    "_cell_guid": "b1076dfc-b9ad-4769-8c92-a6c4dae69d19",
    "_uuid": "8f2839f25d086af736a60e9eeb907d3b93b6e0e5",
    "execution": {
     "iopub.execute_input": "2021-01-12T12:26:12.304710Z",
     "iopub.status.busy": "2021-01-12T12:26:12.304026Z",
     "iopub.status.idle": "2021-01-12T12:26:13.329919Z",
     "shell.execute_reply": "2021-01-12T12:26:13.328896Z"
    },
    "papermill": {
     "duration": 1.057626,
     "end_time": "2021-01-12T12:26:13.330055",
     "exception": false,
     "start_time": "2021-01-12T12:26:12.272429",
     "status": "completed"
    },
    "tags": []
   },
   "outputs": [],
   "source": [
    "import numpy as np \n",
    "import pandas as pd \n",
    "import os\n",
    "import matplotlib.pyplot as plt\n",
    "import seaborn as sns"
   ]
  },
  {
   "cell_type": "code",
   "execution_count": 2,
   "metadata": {
    "execution": {
     "iopub.execute_input": "2021-01-12T12:26:13.404924Z",
     "iopub.status.busy": "2021-01-12T12:26:13.404172Z",
     "iopub.status.idle": "2021-01-12T12:26:13.491109Z",
     "shell.execute_reply": "2021-01-12T12:26:13.490558Z"
    },
    "papermill": {
     "duration": 0.129556,
     "end_time": "2021-01-12T12:26:13.491276",
     "exception": false,
     "start_time": "2021-01-12T12:26:13.361720",
     "status": "completed"
    },
    "tags": []
   },
   "outputs": [],
   "source": [
    "data = pd.read_csv('/kaggle/input/netflix-shows/netflix_titles.csv')"
   ]
  },
  {
   "cell_type": "markdown",
   "metadata": {
    "papermill": {
     "duration": 0.029044,
     "end_time": "2021-01-12T12:26:13.549659",
     "exception": false,
     "start_time": "2021-01-12T12:26:13.520615",
     "status": "completed"
    },
    "tags": []
   },
   "source": [
    "# Exploratory Data Analysis (EDA)"
   ]
  },
  {
   "cell_type": "code",
   "execution_count": 3,
   "metadata": {
    "execution": {
     "iopub.execute_input": "2021-01-12T12:26:13.628896Z",
     "iopub.status.busy": "2021-01-12T12:26:13.627770Z",
     "iopub.status.idle": "2021-01-12T12:26:13.648857Z",
     "shell.execute_reply": "2021-01-12T12:26:13.649578Z"
    },
    "papermill": {
     "duration": 0.06987,
     "end_time": "2021-01-12T12:26:13.649730",
     "exception": false,
     "start_time": "2021-01-12T12:26:13.579860",
     "status": "completed"
    },
    "tags": []
   },
   "outputs": [
    {
     "data": {
      "text/html": [
       "<div>\n",
       "<style scoped>\n",
       "    .dataframe tbody tr th:only-of-type {\n",
       "        vertical-align: middle;\n",
       "    }\n",
       "\n",
       "    .dataframe tbody tr th {\n",
       "        vertical-align: top;\n",
       "    }\n",
       "\n",
       "    .dataframe thead th {\n",
       "        text-align: right;\n",
       "    }\n",
       "</style>\n",
       "<table border=\"1\" class=\"dataframe\">\n",
       "  <thead>\n",
       "    <tr style=\"text-align: right;\">\n",
       "      <th></th>\n",
       "      <th>show_id</th>\n",
       "      <th>release_year</th>\n",
       "    </tr>\n",
       "  </thead>\n",
       "  <tbody>\n",
       "    <tr>\n",
       "      <th>count</th>\n",
       "      <td>6.234000e+03</td>\n",
       "      <td>6234.00000</td>\n",
       "    </tr>\n",
       "    <tr>\n",
       "      <th>mean</th>\n",
       "      <td>7.670368e+07</td>\n",
       "      <td>2013.35932</td>\n",
       "    </tr>\n",
       "    <tr>\n",
       "      <th>std</th>\n",
       "      <td>1.094296e+07</td>\n",
       "      <td>8.81162</td>\n",
       "    </tr>\n",
       "    <tr>\n",
       "      <th>min</th>\n",
       "      <td>2.477470e+05</td>\n",
       "      <td>1925.00000</td>\n",
       "    </tr>\n",
       "    <tr>\n",
       "      <th>25%</th>\n",
       "      <td>8.003580e+07</td>\n",
       "      <td>2013.00000</td>\n",
       "    </tr>\n",
       "    <tr>\n",
       "      <th>50%</th>\n",
       "      <td>8.016337e+07</td>\n",
       "      <td>2016.00000</td>\n",
       "    </tr>\n",
       "    <tr>\n",
       "      <th>75%</th>\n",
       "      <td>8.024489e+07</td>\n",
       "      <td>2018.00000</td>\n",
       "    </tr>\n",
       "    <tr>\n",
       "      <th>max</th>\n",
       "      <td>8.123573e+07</td>\n",
       "      <td>2020.00000</td>\n",
       "    </tr>\n",
       "  </tbody>\n",
       "</table>\n",
       "</div>"
      ],
      "text/plain": [
       "            show_id  release_year\n",
       "count  6.234000e+03    6234.00000\n",
       "mean   7.670368e+07    2013.35932\n",
       "std    1.094296e+07       8.81162\n",
       "min    2.477470e+05    1925.00000\n",
       "25%    8.003580e+07    2013.00000\n",
       "50%    8.016337e+07    2016.00000\n",
       "75%    8.024489e+07    2018.00000\n",
       "max    8.123573e+07    2020.00000"
      ]
     },
     "execution_count": 3,
     "metadata": {},
     "output_type": "execute_result"
    }
   ],
   "source": [
    "data.describe()"
   ]
  },
  {
   "cell_type": "code",
   "execution_count": 4,
   "metadata": {
    "execution": {
     "iopub.execute_input": "2021-01-12T12:26:13.721293Z",
     "iopub.status.busy": "2021-01-12T12:26:13.720142Z",
     "iopub.status.idle": "2021-01-12T12:26:13.736832Z",
     "shell.execute_reply": "2021-01-12T12:26:13.737466Z"
    },
    "papermill": {
     "duration": 0.053963,
     "end_time": "2021-01-12T12:26:13.737630",
     "exception": false,
     "start_time": "2021-01-12T12:26:13.683667",
     "status": "completed"
    },
    "tags": []
   },
   "outputs": [
    {
     "data": {
      "text/plain": [
       "show_id            0\n",
       "type               0\n",
       "title              0\n",
       "director        1969\n",
       "cast             570\n",
       "country          476\n",
       "date_added        11\n",
       "release_year       0\n",
       "rating            10\n",
       "duration           0\n",
       "listed_in          0\n",
       "description        0\n",
       "dtype: int64"
      ]
     },
     "execution_count": 4,
     "metadata": {},
     "output_type": "execute_result"
    }
   ],
   "source": [
    "data.isnull().sum()"
   ]
  },
  {
   "cell_type": "code",
   "execution_count": 5,
   "metadata": {
    "execution": {
     "iopub.execute_input": "2021-01-12T12:26:13.806777Z",
     "iopub.status.busy": "2021-01-12T12:26:13.805739Z",
     "iopub.status.idle": "2021-01-12T12:26:13.823518Z",
     "shell.execute_reply": "2021-01-12T12:26:13.824057Z"
    },
    "papermill": {
     "duration": 0.052887,
     "end_time": "2021-01-12T12:26:13.824201",
     "exception": false,
     "start_time": "2021-01-12T12:26:13.771314",
     "status": "completed"
    },
    "tags": []
   },
   "outputs": [
    {
     "data": {
      "text/html": [
       "<div>\n",
       "<style scoped>\n",
       "    .dataframe tbody tr th:only-of-type {\n",
       "        vertical-align: middle;\n",
       "    }\n",
       "\n",
       "    .dataframe tbody tr th {\n",
       "        vertical-align: top;\n",
       "    }\n",
       "\n",
       "    .dataframe thead th {\n",
       "        text-align: right;\n",
       "    }\n",
       "</style>\n",
       "<table border=\"1\" class=\"dataframe\">\n",
       "  <thead>\n",
       "    <tr style=\"text-align: right;\">\n",
       "      <th></th>\n",
       "      <th>show_id</th>\n",
       "      <th>type</th>\n",
       "      <th>title</th>\n",
       "      <th>director</th>\n",
       "      <th>cast</th>\n",
       "      <th>country</th>\n",
       "      <th>date_added</th>\n",
       "      <th>release_year</th>\n",
       "      <th>rating</th>\n",
       "      <th>duration</th>\n",
       "      <th>listed_in</th>\n",
       "      <th>description</th>\n",
       "    </tr>\n",
       "  </thead>\n",
       "  <tbody>\n",
       "    <tr>\n",
       "      <th>0</th>\n",
       "      <td>81145628</td>\n",
       "      <td>Movie</td>\n",
       "      <td>Norm of the North: King Sized Adventure</td>\n",
       "      <td>Richard Finn, Tim Maltby</td>\n",
       "      <td>Alan Marriott, Andrew Toth, Brian Dobson, Cole...</td>\n",
       "      <td>United States, India, South Korea, China</td>\n",
       "      <td>September 9, 2019</td>\n",
       "      <td>2019</td>\n",
       "      <td>TV-PG</td>\n",
       "      <td>90 min</td>\n",
       "      <td>Children &amp; Family Movies, Comedies</td>\n",
       "      <td>Before planning an awesome wedding for his gra...</td>\n",
       "    </tr>\n",
       "    <tr>\n",
       "      <th>1</th>\n",
       "      <td>80117401</td>\n",
       "      <td>Movie</td>\n",
       "      <td>Jandino: Whatever it Takes</td>\n",
       "      <td>NaN</td>\n",
       "      <td>Jandino Asporaat</td>\n",
       "      <td>United Kingdom</td>\n",
       "      <td>September 9, 2016</td>\n",
       "      <td>2016</td>\n",
       "      <td>TV-MA</td>\n",
       "      <td>94 min</td>\n",
       "      <td>Stand-Up Comedy</td>\n",
       "      <td>Jandino Asporaat riffs on the challenges of ra...</td>\n",
       "    </tr>\n",
       "    <tr>\n",
       "      <th>2</th>\n",
       "      <td>70234439</td>\n",
       "      <td>TV Show</td>\n",
       "      <td>Transformers Prime</td>\n",
       "      <td>NaN</td>\n",
       "      <td>Peter Cullen, Sumalee Montano, Frank Welker, J...</td>\n",
       "      <td>United States</td>\n",
       "      <td>September 8, 2018</td>\n",
       "      <td>2013</td>\n",
       "      <td>TV-Y7-FV</td>\n",
       "      <td>1 Season</td>\n",
       "      <td>Kids' TV</td>\n",
       "      <td>With the help of three human allies, the Autob...</td>\n",
       "    </tr>\n",
       "    <tr>\n",
       "      <th>3</th>\n",
       "      <td>80058654</td>\n",
       "      <td>TV Show</td>\n",
       "      <td>Transformers: Robots in Disguise</td>\n",
       "      <td>NaN</td>\n",
       "      <td>Will Friedle, Darren Criss, Constance Zimmer, ...</td>\n",
       "      <td>United States</td>\n",
       "      <td>September 8, 2018</td>\n",
       "      <td>2016</td>\n",
       "      <td>TV-Y7</td>\n",
       "      <td>1 Season</td>\n",
       "      <td>Kids' TV</td>\n",
       "      <td>When a prison ship crash unleashes hundreds of...</td>\n",
       "    </tr>\n",
       "    <tr>\n",
       "      <th>4</th>\n",
       "      <td>80125979</td>\n",
       "      <td>Movie</td>\n",
       "      <td>#realityhigh</td>\n",
       "      <td>Fernando Lebrija</td>\n",
       "      <td>Nesta Cooper, Kate Walsh, John Michael Higgins...</td>\n",
       "      <td>United States</td>\n",
       "      <td>September 8, 2017</td>\n",
       "      <td>2017</td>\n",
       "      <td>TV-14</td>\n",
       "      <td>99 min</td>\n",
       "      <td>Comedies</td>\n",
       "      <td>When nerdy high schooler Dani finally attracts...</td>\n",
       "    </tr>\n",
       "  </tbody>\n",
       "</table>\n",
       "</div>"
      ],
      "text/plain": [
       "    show_id     type                                    title  \\\n",
       "0  81145628    Movie  Norm of the North: King Sized Adventure   \n",
       "1  80117401    Movie               Jandino: Whatever it Takes   \n",
       "2  70234439  TV Show                       Transformers Prime   \n",
       "3  80058654  TV Show         Transformers: Robots in Disguise   \n",
       "4  80125979    Movie                             #realityhigh   \n",
       "\n",
       "                   director  \\\n",
       "0  Richard Finn, Tim Maltby   \n",
       "1                       NaN   \n",
       "2                       NaN   \n",
       "3                       NaN   \n",
       "4          Fernando Lebrija   \n",
       "\n",
       "                                                cast  \\\n",
       "0  Alan Marriott, Andrew Toth, Brian Dobson, Cole...   \n",
       "1                                   Jandino Asporaat   \n",
       "2  Peter Cullen, Sumalee Montano, Frank Welker, J...   \n",
       "3  Will Friedle, Darren Criss, Constance Zimmer, ...   \n",
       "4  Nesta Cooper, Kate Walsh, John Michael Higgins...   \n",
       "\n",
       "                                    country         date_added  release_year  \\\n",
       "0  United States, India, South Korea, China  September 9, 2019          2019   \n",
       "1                            United Kingdom  September 9, 2016          2016   \n",
       "2                             United States  September 8, 2018          2013   \n",
       "3                             United States  September 8, 2018          2016   \n",
       "4                             United States  September 8, 2017          2017   \n",
       "\n",
       "     rating  duration                           listed_in  \\\n",
       "0     TV-PG    90 min  Children & Family Movies, Comedies   \n",
       "1     TV-MA    94 min                     Stand-Up Comedy   \n",
       "2  TV-Y7-FV  1 Season                            Kids' TV   \n",
       "3     TV-Y7  1 Season                            Kids' TV   \n",
       "4     TV-14    99 min                            Comedies   \n",
       "\n",
       "                                         description  \n",
       "0  Before planning an awesome wedding for his gra...  \n",
       "1  Jandino Asporaat riffs on the challenges of ra...  \n",
       "2  With the help of three human allies, the Autob...  \n",
       "3  When a prison ship crash unleashes hundreds of...  \n",
       "4  When nerdy high schooler Dani finally attracts...  "
      ]
     },
     "execution_count": 5,
     "metadata": {},
     "output_type": "execute_result"
    }
   ],
   "source": [
    "data.head()"
   ]
  },
  {
   "cell_type": "markdown",
   "metadata": {
    "papermill": {
     "duration": 0.03074,
     "end_time": "2021-01-12T12:26:13.886221",
     "exception": false,
     "start_time": "2021-01-12T12:26:13.855481",
     "status": "completed"
    },
    "tags": []
   },
   "source": [
    "# Distribution of Movie/TV Show"
   ]
  },
  {
   "cell_type": "code",
   "execution_count": 6,
   "metadata": {
    "execution": {
     "iopub.execute_input": "2021-01-12T12:26:13.953574Z",
     "iopub.status.busy": "2021-01-12T12:26:13.952534Z",
     "iopub.status.idle": "2021-01-12T12:26:14.104096Z",
     "shell.execute_reply": "2021-01-12T12:26:14.104632Z"
    },
    "papermill": {
     "duration": 0.187017,
     "end_time": "2021-01-12T12:26:14.104787",
     "exception": false,
     "start_time": "2021-01-12T12:26:13.917770",
     "status": "completed"
    },
    "tags": []
   },
   "outputs": [
    {
     "data": {
      "text/plain": [
       "Text(0.5, 1.0, 'Distribution of Movie/TV Show')"
      ]
     },
     "execution_count": 6,
     "metadata": {},
     "output_type": "execute_result"
    },
    {
     "data": {
      "image/png": "[encoded data removed]",
      "text/plain": [
       "<Figure size 864x864 with 1 Axes>"
      ]
     },
     "metadata": {},
     "output_type": "display_data"
    }
   ],
   "source": [
    "bar, ax = plt.subplots(figsize = (12,12))\n",
    "plt.pie(data['type'].value_counts(), labels = data['type'].value_counts().index, autopct=\"%.1f%%\")\n",
    "plt.title('Distribution of Movie/TV Show', size=20)"
   ]
  },
  {
   "cell_type": "code",
   "execution_count": 7,
   "metadata": {
    "execution": {
     "iopub.execute_input": "2021-01-12T12:26:14.181483Z",
     "iopub.status.busy": "2021-01-12T12:26:14.180420Z",
     "iopub.status.idle": "2021-01-12T12:26:14.386453Z",
     "shell.execute_reply": "2021-01-12T12:26:14.386984Z"
    },
    "papermill": {
     "duration": 0.246057,
     "end_time": "2021-01-12T12:26:14.387141",
     "exception": false,
     "start_time": "2021-01-12T12:26:14.141084",
     "status": "completed"
    },
    "tags": []
   },
   "outputs": [
    {
     "data": {
      "text/plain": [
       "Text(0.5, 1.0, 'Release Frequency over Years')"
      ]
     },
     "execution_count": 7,
     "metadata": {},
     "output_type": "execute_result"
    },
    {
     "data": {
      "image/png": "[encoded data removed]",
      "text/plain": [
       "<Figure size 720x720 with 1 Axes>"
      ]
     },
     "metadata": {
      "needs_background": "light"
     },
     "output_type": "display_data"
    }
   ],
   "source": [
    "bar, ax = plt.subplots(figsize = (10,10))\n",
    "sns.barplot(x = data['release_year'].value_counts().index[:5], y = data['release_year'].value_counts()[:5])\n",
    "plt.xlabel('Year')\n",
    "plt.ylabel('Frequency')\n",
    "plt.title('Release Frequency over Years')"
   ]
  },
  {
   "cell_type": "markdown",
   "metadata": {
    "papermill": {
     "duration": 0.042448,
     "end_time": "2021-01-12T12:26:14.468803",
     "exception": false,
     "start_time": "2021-01-12T12:26:14.426355",
     "status": "completed"
    },
    "tags": []
   },
   "source": [
    "# Growth of Movie/TV Show over Years"
   ]
  },
  {
   "cell_type": "code",
   "execution_count": 8,
   "metadata": {
    "execution": {
     "iopub.execute_input": "2021-01-12T12:26:14.554824Z",
     "iopub.status.busy": "2021-01-12T12:26:14.553819Z",
     "iopub.status.idle": "2021-01-12T12:26:14.578026Z",
     "shell.execute_reply": "2021-01-12T12:26:14.576877Z"
    },
    "papermill": {
     "duration": 0.068094,
     "end_time": "2021-01-12T12:26:14.578148",
     "exception": false,
     "start_time": "2021-01-12T12:26:14.510054",
     "status": "completed"
    },
    "tags": []
   },
   "outputs": [],
   "source": [
    "movie_data = data[data['type'] == 'Movie']\n",
    "tv_show_data = data[data['type'] == 'TV Show']\n",
    "# bar,ax = plt.subplots(1,2,figsize=(10,10))\n",
    "temp = data[['type', 'release_year']]\n",
    "temp = temp.value_counts().to_frame()\n",
    "temp.reset_index(level=[0,1], inplace=True)\n",
    "temp = temp.rename(columns = {0:'count'})\n",
    "temp = pd.concat([temp[temp['type'] == 'Movie'][:5], temp[temp['type']== 'TV Show'][:5]])\n"
   ]
  },
  {
   "cell_type": "code",
   "execution_count": 9,
   "metadata": {
    "execution": {
     "iopub.execute_input": "2021-01-12T12:26:14.662554Z",
     "iopub.status.busy": "2021-01-12T12:26:14.658709Z",
     "iopub.status.idle": "2021-01-12T12:26:14.980953Z",
     "shell.execute_reply": "2021-01-12T12:26:14.980291Z"
    },
    "papermill": {
     "duration": 0.368591,
     "end_time": "2021-01-12T12:26:14.981062",
     "exception": false,
     "start_time": "2021-01-12T12:26:14.612471",
     "status": "completed"
    },
    "tags": []
   },
   "outputs": [
    {
     "data": {
      "text/plain": [
       "Text(0.5, 1.0, 'Growth of Movie/TV Show over Years')"
      ]
     },
     "execution_count": 9,
     "metadata": {},
     "output_type": "execute_result"
    },
    {
     "data": {
      "image/png": "[encoded data removed]",
      "text/plain": [
       "<Figure size 438.75x360 with 1 Axes>"
      ]
     },
     "metadata": {
      "needs_background": "light"
     },
     "output_type": "display_data"
    }
   ],
   "source": [
    "# ax, bar = plt.subplots(figsize = (10,10))\n",
    "sns.catplot(x = 'release_year', y = 'count', hue = 'type', data = temp, kind = 'point')\n",
    "plt.xlabel('Release Year')\n",
    "plt.ylabel('Frequency')\n",
    "plt.title('Growth of Movie/TV Show over Years', size=14)"
   ]
  },
  {
   "cell_type": "markdown",
   "metadata": {
    "papermill": {
     "duration": 0.035634,
     "end_time": "2021-01-12T12:26:15.059221",
     "exception": false,
     "start_time": "2021-01-12T12:26:15.023587",
     "status": "completed"
    },
    "tags": []
   },
   "source": [
    "# Histogram For Movie Duration"
   ]
  },
  {
   "cell_type": "code",
   "execution_count": 10,
   "metadata": {
    "execution": {
     "iopub.execute_input": "2021-01-12T12:26:15.140414Z",
     "iopub.status.busy": "2021-01-12T12:26:15.139217Z",
     "iopub.status.idle": "2021-01-12T12:26:15.437763Z",
     "shell.execute_reply": "2021-01-12T12:26:15.437129Z"
    },
    "papermill": {
     "duration": 0.343084,
     "end_time": "2021-01-12T12:26:15.437884",
     "exception": false,
     "start_time": "2021-01-12T12:26:15.094800",
     "status": "completed"
    },
    "tags": []
   },
   "outputs": [
    {
     "data": {
      "text/plain": [
       "<matplotlib.axes._subplots.AxesSubplot at 0x7ff6f77b95d0>"
      ]
     },
     "execution_count": 10,
     "metadata": {},
     "output_type": "execute_result"
    },
    {
     "data": {
      "image/png": "[encoded data removed]",
      "text/plain": [
       "<Figure size 720x720 with 1 Axes>"
      ]
     },
     "metadata": {
      "needs_background": "light"
     },
     "output_type": "display_data"
    }
   ],
   "source": [
    "temp = data[data['type'] == 'Movie'].reset_index()\n",
    "temp['movie_duration'] = [int(x.split()[0]) for x in temp['duration'][temp['type'] == 'Movie']]\n",
    "temp['movie_duration']\n",
    "bar, ax = plt.subplots(figsize = (10,10))\n",
    "sns.distplot(a = temp['movie_duration'])"
   ]
  },
  {
   "cell_type": "markdown",
   "metadata": {
    "papermill": {
     "duration": 0.037278,
     "end_time": "2021-01-12T12:26:15.517013",
     "exception": false,
     "start_time": "2021-01-12T12:26:15.479735",
     "status": "completed"
    },
    "tags": []
   },
   "source": [
    "# Famous Director in Movie/TV Show"
   ]
  },
  {
   "cell_type": "code",
   "execution_count": 11,
   "metadata": {
    "execution": {
     "iopub.execute_input": "2021-01-12T12:26:15.609800Z",
     "iopub.status.busy": "2021-01-12T12:26:15.608310Z",
     "iopub.status.idle": "2021-01-12T12:26:16.003012Z",
     "shell.execute_reply": "2021-01-12T12:26:16.002331Z"
    },
    "papermill": {
     "duration": 0.447216,
     "end_time": "2021-01-12T12:26:16.003126",
     "exception": false,
     "start_time": "2021-01-12T12:26:15.555910",
     "status": "completed"
    },
    "tags": []
   },
   "outputs": [
    {
     "data": {
      "text/html": [
       "<div>\n",
       "<style scoped>\n",
       "    .dataframe tbody tr th:only-of-type {\n",
       "        vertical-align: middle;\n",
       "    }\n",
       "\n",
       "    .dataframe tbody tr th {\n",
       "        vertical-align: top;\n",
       "    }\n",
       "\n",
       "    .dataframe thead th {\n",
       "        text-align: right;\n",
       "    }\n",
       "</style>\n",
       "<table border=\"1\" class=\"dataframe\">\n",
       "  <thead>\n",
       "    <tr style=\"text-align: right;\">\n",
       "      <th></th>\n",
       "      <th>type</th>\n",
       "      <th>director</th>\n",
       "    </tr>\n",
       "  </thead>\n",
       "  <tbody>\n",
       "    <tr>\n",
       "      <th>0</th>\n",
       "      <td>Movie</td>\n",
       "      <td>Richard Finn</td>\n",
       "    </tr>\n",
       "    <tr>\n",
       "      <th>1</th>\n",
       "      <td>Movie</td>\n",
       "      <td>Tim Maltby</td>\n",
       "    </tr>\n",
       "    <tr>\n",
       "      <th>2</th>\n",
       "      <td>Movie</td>\n",
       "      <td>Fernando Lebrija</td>\n",
       "    </tr>\n",
       "    <tr>\n",
       "      <th>3</th>\n",
       "      <td>Movie</td>\n",
       "      <td>Gabe Ibáñez</td>\n",
       "    </tr>\n",
       "    <tr>\n",
       "      <th>4</th>\n",
       "      <td>Movie</td>\n",
       "      <td>Rodrigo Toro</td>\n",
       "    </tr>\n",
       "    <tr>\n",
       "      <th>...</th>\n",
       "      <td>...</td>\n",
       "      <td>...</td>\n",
       "    </tr>\n",
       "    <tr>\n",
       "      <th>4242</th>\n",
       "      <td>TV Show</td>\n",
       "      <td>Thomas Astruc</td>\n",
       "    </tr>\n",
       "    <tr>\n",
       "      <th>4243</th>\n",
       "      <td>TV Show</td>\n",
       "      <td>Vikramaditya Motwane</td>\n",
       "    </tr>\n",
       "    <tr>\n",
       "      <th>4244</th>\n",
       "      <td>TV Show</td>\n",
       "      <td>Anurag Kashyap</td>\n",
       "    </tr>\n",
       "    <tr>\n",
       "      <th>4245</th>\n",
       "      <td>TV Show</td>\n",
       "      <td>Jung-ah Im</td>\n",
       "    </tr>\n",
       "    <tr>\n",
       "      <th>4246</th>\n",
       "      <td>TV Show</td>\n",
       "      <td>Onur Ünlü</td>\n",
       "    </tr>\n",
       "  </tbody>\n",
       "</table>\n",
       "<p>4247 rows × 2 columns</p>\n",
       "</div>"
      ],
      "text/plain": [
       "         type              director\n",
       "0       Movie          Richard Finn\n",
       "1       Movie            Tim Maltby\n",
       "2       Movie      Fernando Lebrija\n",
       "3       Movie           Gabe Ibáñez\n",
       "4       Movie          Rodrigo Toro\n",
       "...       ...                   ...\n",
       "4242  TV Show         Thomas Astruc\n",
       "4243  TV Show  Vikramaditya Motwane\n",
       "4244  TV Show        Anurag Kashyap\n",
       "4245  TV Show            Jung-ah Im\n",
       "4246  TV Show             Onur Ünlü\n",
       "\n",
       "[4247 rows x 2 columns]"
      ]
     },
     "execution_count": 11,
     "metadata": {},
     "output_type": "execute_result"
    }
   ],
   "source": [
    "temp = list()\n",
    "clean_data = data.dropna()\n",
    "clean_data.reset_index(inplace=True)\n",
    "for ind, element in clean_data.iterrows():\n",
    "    type_show = element['type']\n",
    "    for director in str(element['director']).split(','):\n",
    "        temp.append([type_show, director])\n",
    "director_data = pd.DataFrame(temp, columns= ['type', 'director'])\n",
    "director_data"
   ]
  },
  {
   "cell_type": "code",
   "execution_count": 12,
   "metadata": {
    "execution": {
     "iopub.execute_input": "2021-01-12T12:26:16.085380Z",
     "iopub.status.busy": "2021-01-12T12:26:16.084710Z",
     "iopub.status.idle": "2021-01-12T12:26:16.107316Z",
     "shell.execute_reply": "2021-01-12T12:26:16.107851Z"
    },
    "papermill": {
     "duration": 0.067148,
     "end_time": "2021-01-12T12:26:16.107989",
     "exception": false,
     "start_time": "2021-01-12T12:26:16.040841",
     "status": "completed"
    },
    "tags": []
   },
   "outputs": [
    {
     "data": {
      "text/html": [
       "<div>\n",
       "<style scoped>\n",
       "    .dataframe tbody tr th:only-of-type {\n",
       "        vertical-align: middle;\n",
       "    }\n",
       "\n",
       "    .dataframe tbody tr th {\n",
       "        vertical-align: top;\n",
       "    }\n",
       "\n",
       "    .dataframe thead th {\n",
       "        text-align: right;\n",
       "    }\n",
       "</style>\n",
       "<table border=\"1\" class=\"dataframe\">\n",
       "  <thead>\n",
       "    <tr style=\"text-align: right;\">\n",
       "      <th></th>\n",
       "      <th>type</th>\n",
       "      <th>director</th>\n",
       "      <th>count</th>\n",
       "    </tr>\n",
       "  </thead>\n",
       "  <tbody>\n",
       "    <tr>\n",
       "      <th>0</th>\n",
       "      <td>Movie</td>\n",
       "      <td>Jan Suter</td>\n",
       "      <td>18</td>\n",
       "    </tr>\n",
       "    <tr>\n",
       "      <th>1</th>\n",
       "      <td>Movie</td>\n",
       "      <td>Raúl Campos</td>\n",
       "      <td>18</td>\n",
       "    </tr>\n",
       "    <tr>\n",
       "      <th>2</th>\n",
       "      <td>Movie</td>\n",
       "      <td>Jay Karas</td>\n",
       "      <td>14</td>\n",
       "    </tr>\n",
       "    <tr>\n",
       "      <th>3</th>\n",
       "      <td>Movie</td>\n",
       "      <td>Marcus Raboy</td>\n",
       "      <td>12</td>\n",
       "    </tr>\n",
       "    <tr>\n",
       "      <th>4</th>\n",
       "      <td>Movie</td>\n",
       "      <td>Jay Chapman</td>\n",
       "      <td>12</td>\n",
       "    </tr>\n",
       "    <tr>\n",
       "      <th>...</th>\n",
       "      <td>...</td>\n",
       "      <td>...</td>\n",
       "      <td>...</td>\n",
       "    </tr>\n",
       "    <tr>\n",
       "      <th>3289</th>\n",
       "      <td>Movie</td>\n",
       "      <td>Maximilian Erlenwein</td>\n",
       "      <td>1</td>\n",
       "    </tr>\n",
       "    <tr>\n",
       "      <th>3290</th>\n",
       "      <td>Movie</td>\n",
       "      <td>Max McGill</td>\n",
       "      <td>1</td>\n",
       "    </tr>\n",
       "    <tr>\n",
       "      <th>3291</th>\n",
       "      <td>Movie</td>\n",
       "      <td>Max Martini</td>\n",
       "      <td>1</td>\n",
       "    </tr>\n",
       "    <tr>\n",
       "      <th>3292</th>\n",
       "      <td>Movie</td>\n",
       "      <td>Max Lang</td>\n",
       "      <td>1</td>\n",
       "    </tr>\n",
       "    <tr>\n",
       "      <th>3293</th>\n",
       "      <td>Movie</td>\n",
       "      <td>Aaron Moorhead</td>\n",
       "      <td>1</td>\n",
       "    </tr>\n",
       "  </tbody>\n",
       "</table>\n",
       "<p>3294 rows × 3 columns</p>\n",
       "</div>"
      ],
      "text/plain": [
       "       type              director  count\n",
       "0     Movie             Jan Suter     18\n",
       "1     Movie           Raúl Campos     18\n",
       "2     Movie             Jay Karas     14\n",
       "3     Movie          Marcus Raboy     12\n",
       "4     Movie           Jay Chapman     12\n",
       "...     ...                   ...    ...\n",
       "3289  Movie  Maximilian Erlenwein      1\n",
       "3290  Movie            Max McGill      1\n",
       "3291  Movie           Max Martini      1\n",
       "3292  Movie              Max Lang      1\n",
       "3293  Movie        Aaron Moorhead      1\n",
       "\n",
       "[3294 rows x 3 columns]"
      ]
     },
     "execution_count": 12,
     "metadata": {},
     "output_type": "execute_result"
    }
   ],
   "source": [
    "director_data_count = director_data.value_counts().to_frame()\n",
    "director_data_count.reset_index(level=[0,1], inplace=True)\n",
    "famous_director = director_data_count.rename(columns={0:'count'})\n",
    "# famous_director = pd.concat([famous_director[famous_director['type'] == 'Movie'].iloc[:5,:], famous_director[famous_director['type'] == 'TV Show'].iloc[:5,:]])\n",
    "# famous_director.reset_index(inplace=True)\n",
    "famous_director"
   ]
  },
  {
   "cell_type": "code",
   "execution_count": 13,
   "metadata": {
    "execution": {
     "iopub.execute_input": "2021-01-12T12:26:16.188814Z",
     "iopub.status.busy": "2021-01-12T12:26:16.188127Z",
     "iopub.status.idle": "2021-01-12T12:26:16.625177Z",
     "shell.execute_reply": "2021-01-12T12:26:16.625717Z"
    },
    "papermill": {
     "duration": 0.478766,
     "end_time": "2021-01-12T12:26:16.625856",
     "exception": false,
     "start_time": "2021-01-12T12:26:16.147090",
     "status": "completed"
    },
    "tags": []
   },
   "outputs": [
    {
     "data": {
      "image/png": "[encoded data removed]",
      "text/plain": [
       "<Figure size 720x720 with 1 Axes>"
      ]
     },
     "metadata": {
      "needs_background": "light"
     },
     "output_type": "display_data"
    },
    {
     "data": {
      "image/png": "[encoded data removed]",
      "text/plain": [
       "<Figure size 720x720 with 1 Axes>"
      ]
     },
     "metadata": {
      "needs_background": "light"
     },
     "output_type": "display_data"
    }
   ],
   "source": [
    "\n",
    "for unique_type in famous_director['type'].unique():\n",
    "    bar, ax = plt.subplots(figsize=(10,10))\n",
    "    sns.barplot(x = 'director', y = 'count', data = famous_director[famous_director['type'] == unique_type].iloc[:5])\n",
    "    plt.xlabel('Director in {}'.format(str(unique_type)))\n",
    "    plt.ylabel('Frequency')\n",
    "    plt.title('Famous Director in {}'.format(str(unique_type)), size=20)"
   ]
  },
  {
   "cell_type": "markdown",
   "metadata": {
    "papermill": {
     "duration": 0.04001,
     "end_time": "2021-01-12T12:26:16.706515",
     "exception": false,
     "start_time": "2021-01-12T12:26:16.666505",
     "status": "completed"
    },
    "tags": []
   },
   "source": [
    "# Top Three countries with most TV Shows"
   ]
  },
  {
   "cell_type": "code",
   "execution_count": 14,
   "metadata": {
    "execution": {
     "iopub.execute_input": "2021-01-12T12:26:16.805475Z",
     "iopub.status.busy": "2021-01-12T12:26:16.804749Z",
     "iopub.status.idle": "2021-01-12T12:26:17.213873Z",
     "shell.execute_reply": "2021-01-12T12:26:17.213204Z"
    },
    "papermill": {
     "duration": 0.466555,
     "end_time": "2021-01-12T12:26:17.213983",
     "exception": false,
     "start_time": "2021-01-12T12:26:16.747428",
     "status": "completed"
    },
    "tags": []
   },
   "outputs": [
    {
     "data": {
      "text/html": [
       "<div>\n",
       "<style scoped>\n",
       "    .dataframe tbody tr th:only-of-type {\n",
       "        vertical-align: middle;\n",
       "    }\n",
       "\n",
       "    .dataframe tbody tr th {\n",
       "        vertical-align: top;\n",
       "    }\n",
       "\n",
       "    .dataframe thead th {\n",
       "        text-align: right;\n",
       "    }\n",
       "</style>\n",
       "<table border=\"1\" class=\"dataframe\">\n",
       "  <thead>\n",
       "    <tr style=\"text-align: right;\">\n",
       "      <th></th>\n",
       "      <th>type</th>\n",
       "      <th>country</th>\n",
       "      <th>count</th>\n",
       "    </tr>\n",
       "  </thead>\n",
       "  <tbody>\n",
       "    <tr>\n",
       "      <th>0</th>\n",
       "      <td>Movie</td>\n",
       "      <td>United States</td>\n",
       "      <td>1480</td>\n",
       "    </tr>\n",
       "    <tr>\n",
       "      <th>1</th>\n",
       "      <td>Movie</td>\n",
       "      <td>India</td>\n",
       "      <td>732</td>\n",
       "    </tr>\n",
       "    <tr>\n",
       "      <th>2</th>\n",
       "      <td>Movie</td>\n",
       "      <td>United Kingdom</td>\n",
       "      <td>237</td>\n",
       "    </tr>\n",
       "    <tr>\n",
       "      <th>3</th>\n",
       "      <td>Movie</td>\n",
       "      <td>United States</td>\n",
       "      <td>205</td>\n",
       "    </tr>\n",
       "    <tr>\n",
       "      <th>4</th>\n",
       "      <td>Movie</td>\n",
       "      <td>Canada</td>\n",
       "      <td>111</td>\n",
       "    </tr>\n",
       "    <tr>\n",
       "      <th>...</th>\n",
       "      <td>...</td>\n",
       "      <td>...</td>\n",
       "      <td>...</td>\n",
       "    </tr>\n",
       "    <tr>\n",
       "      <th>183</th>\n",
       "      <td>Movie</td>\n",
       "      <td>Somalia</td>\n",
       "      <td>1</td>\n",
       "    </tr>\n",
       "    <tr>\n",
       "      <th>184</th>\n",
       "      <td>Movie</td>\n",
       "      <td>Soviet Union</td>\n",
       "      <td>1</td>\n",
       "    </tr>\n",
       "    <tr>\n",
       "      <th>185</th>\n",
       "      <td>Movie</td>\n",
       "      <td>Sudan</td>\n",
       "      <td>1</td>\n",
       "    </tr>\n",
       "    <tr>\n",
       "      <th>186</th>\n",
       "      <td>Movie</td>\n",
       "      <td>Iraq</td>\n",
       "      <td>1</td>\n",
       "    </tr>\n",
       "    <tr>\n",
       "      <th>187</th>\n",
       "      <td>Movie</td>\n",
       "      <td></td>\n",
       "      <td>1</td>\n",
       "    </tr>\n",
       "  </tbody>\n",
       "</table>\n",
       "<p>188 rows × 3 columns</p>\n",
       "</div>"
      ],
      "text/plain": [
       "      type         country  count\n",
       "0    Movie   United States   1480\n",
       "1    Movie           India    732\n",
       "2    Movie  United Kingdom    237\n",
       "3    Movie   United States    205\n",
       "4    Movie          Canada    111\n",
       "..     ...             ...    ...\n",
       "183  Movie         Somalia      1\n",
       "184  Movie    Soviet Union      1\n",
       "185  Movie           Sudan      1\n",
       "186  Movie            Iraq      1\n",
       "187  Movie                      1\n",
       "\n",
       "[188 rows x 3 columns]"
      ]
     },
     "execution_count": 14,
     "metadata": {},
     "output_type": "execute_result"
    }
   ],
   "source": [
    "temp = list()\n",
    "clean_data = data.dropna()\n",
    "clean_data.reset_index(inplace=True)\n",
    "for ind, element in clean_data.iterrows():\n",
    "    type_show = element['type']\n",
    "    for country in str(element['country']).split(','):\n",
    "        temp.append([type_show, country])\n",
    "country_data = pd.DataFrame(temp, columns= ['type', 'country'])\n",
    "\n",
    "country = country_data.value_counts().to_frame()\n",
    "country.reset_index(level=[0,1], inplace = True)\n",
    "country = country.rename(columns = {0:'count'})\n",
    "country"
   ]
  },
  {
   "cell_type": "code",
   "execution_count": 15,
   "metadata": {
    "execution": {
     "iopub.execute_input": "2021-01-12T12:26:17.313396Z",
     "iopub.status.busy": "2021-01-12T12:26:17.308122Z",
     "iopub.status.idle": "2021-01-12T12:26:17.610740Z",
     "shell.execute_reply": "2021-01-12T12:26:17.611210Z"
    },
    "papermill": {
     "duration": 0.355826,
     "end_time": "2021-01-12T12:26:17.611391",
     "exception": false,
     "start_time": "2021-01-12T12:26:17.255565",
     "status": "completed"
    },
    "tags": []
   },
   "outputs": [
    {
     "data": {
      "text/plain": [
       "Text(0.5, 1.0, 'Top Three countries with most TV Shows')"
      ]
     },
     "execution_count": 15,
     "metadata": {},
     "output_type": "execute_result"
    },
    {
     "data": {
      "image/png": "[encoded data removed]",
      "text/plain": [
       "<Figure size 1008x720 with 2 Axes>"
      ]
     },
     "metadata": {
      "needs_background": "light"
     },
     "output_type": "display_data"
    }
   ],
   "source": [
    "bar, ax = plt.subplots(1,2, figsize=(14,10))\n",
    "sns.barplot(x = 'count', y ='country', data = country[country['type'] == 'Movie'].iloc[:3,:], ax = ax[0])\n",
    "ax[0].set_xlabel('Frequency')\n",
    "ax[0].set_ylabel('Country')\n",
    "ax[0].set_title('Top Three countries with most Movies')\n",
    "sns.barplot(x = 'country', y = 'count', data = country[country['type'] == 'TV Show'].iloc[:3,:], ax = ax[1])\n",
    "ax[1].set_xlabel('Country')\n",
    "ax[1].set_ylabel('Frequency')\n",
    "ax[1].set_title('Top Three countries with most TV Shows')"
   ]
  },
  {
   "cell_type": "markdown",
   "metadata": {
    "papermill": {
     "duration": 0.042683,
     "end_time": "2021-01-12T12:26:17.696527",
     "exception": false,
     "start_time": "2021-01-12T12:26:17.653844",
     "status": "completed"
    },
    "tags": []
   },
   "source": [
    "# Expansion of TV Show\\Movie over Years in U.S.A"
   ]
  },
  {
   "cell_type": "code",
   "execution_count": 16,
   "metadata": {
    "execution": {
     "iopub.execute_input": "2021-01-12T12:26:17.792027Z",
     "iopub.status.busy": "2021-01-12T12:26:17.791220Z",
     "iopub.status.idle": "2021-01-12T12:26:17.809932Z",
     "shell.execute_reply": "2021-01-12T12:26:17.809385Z"
    },
    "papermill": {
     "duration": 0.071243,
     "end_time": "2021-01-12T12:26:17.810043",
     "exception": false,
     "start_time": "2021-01-12T12:26:17.738800",
     "status": "completed"
    },
    "tags": []
   },
   "outputs": [
    {
     "data": {
      "text/html": [
       "<div>\n",
       "<style scoped>\n",
       "    .dataframe tbody tr th:only-of-type {\n",
       "        vertical-align: middle;\n",
       "    }\n",
       "\n",
       "    .dataframe tbody tr th {\n",
       "        vertical-align: top;\n",
       "    }\n",
       "\n",
       "    .dataframe thead th {\n",
       "        text-align: right;\n",
       "    }\n",
       "</style>\n",
       "<table border=\"1\" class=\"dataframe\">\n",
       "  <thead>\n",
       "    <tr style=\"text-align: right;\">\n",
       "      <th></th>\n",
       "      <th>type</th>\n",
       "      <th>release_year</th>\n",
       "      <th>count</th>\n",
       "    </tr>\n",
       "  </thead>\n",
       "  <tbody>\n",
       "    <tr>\n",
       "      <th>0</th>\n",
       "      <td>Movie</td>\n",
       "      <td>2017</td>\n",
       "      <td>260</td>\n",
       "    </tr>\n",
       "    <tr>\n",
       "      <th>1</th>\n",
       "      <td>Movie</td>\n",
       "      <td>2018</td>\n",
       "      <td>219</td>\n",
       "    </tr>\n",
       "    <tr>\n",
       "      <th>2</th>\n",
       "      <td>Movie</td>\n",
       "      <td>2016</td>\n",
       "      <td>185</td>\n",
       "    </tr>\n",
       "    <tr>\n",
       "      <th>3</th>\n",
       "      <td>TV Show</td>\n",
       "      <td>2019</td>\n",
       "      <td>164</td>\n",
       "    </tr>\n",
       "    <tr>\n",
       "      <th>4</th>\n",
       "      <td>Movie</td>\n",
       "      <td>2019</td>\n",
       "      <td>160</td>\n",
       "    </tr>\n",
       "    <tr>\n",
       "      <th>...</th>\n",
       "      <td>...</td>\n",
       "      <td>...</td>\n",
       "      <td>...</td>\n",
       "    </tr>\n",
       "    <tr>\n",
       "      <th>90</th>\n",
       "      <td>TV Show</td>\n",
       "      <td>2000</td>\n",
       "      <td>1</td>\n",
       "    </tr>\n",
       "    <tr>\n",
       "      <th>91</th>\n",
       "      <td>Movie</td>\n",
       "      <td>1982</td>\n",
       "      <td>1</td>\n",
       "    </tr>\n",
       "    <tr>\n",
       "      <th>92</th>\n",
       "      <td>Movie</td>\n",
       "      <td>1983</td>\n",
       "      <td>1</td>\n",
       "    </tr>\n",
       "    <tr>\n",
       "      <th>93</th>\n",
       "      <td>Movie</td>\n",
       "      <td>1985</td>\n",
       "      <td>1</td>\n",
       "    </tr>\n",
       "    <tr>\n",
       "      <th>94</th>\n",
       "      <td>Movie</td>\n",
       "      <td>1969</td>\n",
       "      <td>1</td>\n",
       "    </tr>\n",
       "  </tbody>\n",
       "</table>\n",
       "<p>95 rows × 3 columns</p>\n",
       "</div>"
      ],
      "text/plain": [
       "       type  release_year  count\n",
       "0     Movie          2017    260\n",
       "1     Movie          2018    219\n",
       "2     Movie          2016    185\n",
       "3   TV Show          2019    164\n",
       "4     Movie          2019    160\n",
       "..      ...           ...    ...\n",
       "90  TV Show          2000      1\n",
       "91    Movie          1982      1\n",
       "92    Movie          1983      1\n",
       "93    Movie          1985      1\n",
       "94    Movie          1969      1\n",
       "\n",
       "[95 rows x 3 columns]"
      ]
     },
     "execution_count": 16,
     "metadata": {},
     "output_type": "execute_result"
    }
   ],
   "source": [
    "temp = data[['type','release_year']][data['country'] == 'United States']\n",
    "temp = temp.value_counts().to_frame()\n",
    "temp.reset_index(level=[0,1], inplace =True)\n",
    "temp = temp.rename(columns = {0:'count'})\n",
    "temp"
   ]
  },
  {
   "cell_type": "code",
   "execution_count": 17,
   "metadata": {
    "execution": {
     "iopub.execute_input": "2021-01-12T12:26:17.906790Z",
     "iopub.status.busy": "2021-01-12T12:26:17.905618Z",
     "iopub.status.idle": "2021-01-12T12:26:18.223496Z",
     "shell.execute_reply": "2021-01-12T12:26:18.222782Z"
    },
    "papermill": {
     "duration": 0.370213,
     "end_time": "2021-01-12T12:26:18.223625",
     "exception": false,
     "start_time": "2021-01-12T12:26:17.853412",
     "status": "completed"
    },
    "tags": []
   },
   "outputs": [
    {
     "data": {
      "text/plain": [
       "Text(0.5, 1.0, 'Expansion of TV Show over Years in U.S.A')"
      ]
     },
     "execution_count": 17,
     "metadata": {},
     "output_type": "execute_result"
    },
    {
     "data": {
      "image/png": "[encoded data removed]",
      "text/plain": [
       "<Figure size 1008x576 with 2 Axes>"
      ]
     },
     "metadata": {
      "needs_background": "light"
     },
     "output_type": "display_data"
    }
   ],
   "source": [
    "bar, ax = plt.subplots(1,2, figsize = (14,8))\n",
    "sns.pointplot(x = 'release_year', y = 'count', data = temp[temp['type'] == 'Movie'].iloc[:5], kind = 'point', ax = ax[0])\n",
    "sns.pointplot(x = 'release_year', y = 'count', data = temp[temp['type'] == 'TV Show'].iloc[:5], kind = 'point', ax = ax[1])\n",
    "ax[0].set_xlabel('Release Year')\n",
    "ax[0].set_ylabel('Release Frequency')\n",
    "ax[0].set_title('Expansion of Movies over Years in U.S.A', size=18)\n",
    "ax[1].set_xlabel('Release Year')\n",
    "ax[1].set_ylabel('Release Frequency')\n",
    "ax[1].set_title('Expansion of TV Show over Years in U.S.A', size=18)\n"
   ]
  },
  {
   "cell_type": "markdown",
   "metadata": {
    "papermill": {
     "duration": 0.044366,
     "end_time": "2021-01-12T12:26:18.318533",
     "exception": false,
     "start_time": "2021-01-12T12:26:18.274167",
     "status": "completed"
    },
    "tags": []
   },
   "source": [
    "# Most Famous Cast in TV Show"
   ]
  },
  {
   "cell_type": "code",
   "execution_count": 18,
   "metadata": {
    "execution": {
     "iopub.execute_input": "2021-01-12T12:26:18.425128Z",
     "iopub.status.busy": "2021-01-12T12:26:18.417185Z",
     "iopub.status.idle": "2021-01-12T12:26:18.868437Z",
     "shell.execute_reply": "2021-01-12T12:26:18.867823Z"
    },
    "papermill": {
     "duration": 0.504667,
     "end_time": "2021-01-12T12:26:18.868568",
     "exception": false,
     "start_time": "2021-01-12T12:26:18.363901",
     "status": "completed"
    },
    "tags": []
   },
   "outputs": [
    {
     "data": {
      "text/html": [
       "<div>\n",
       "<style scoped>\n",
       "    .dataframe tbody tr th:only-of-type {\n",
       "        vertical-align: middle;\n",
       "    }\n",
       "\n",
       "    .dataframe tbody tr th {\n",
       "        vertical-align: top;\n",
       "    }\n",
       "\n",
       "    .dataframe thead th {\n",
       "        text-align: right;\n",
       "    }\n",
       "</style>\n",
       "<table border=\"1\" class=\"dataframe\">\n",
       "  <thead>\n",
       "    <tr style=\"text-align: right;\">\n",
       "      <th></th>\n",
       "      <th>type</th>\n",
       "      <th>country</th>\n",
       "      <th>count</th>\n",
       "    </tr>\n",
       "  </thead>\n",
       "  <tbody>\n",
       "    <tr>\n",
       "      <th>0</th>\n",
       "      <td>Movie</td>\n",
       "      <td>Anupam Kher</td>\n",
       "      <td>29</td>\n",
       "    </tr>\n",
       "    <tr>\n",
       "      <th>1</th>\n",
       "      <td>Movie</td>\n",
       "      <td>Om Puri</td>\n",
       "      <td>25</td>\n",
       "    </tr>\n",
       "    <tr>\n",
       "      <th>2</th>\n",
       "      <td>Movie</td>\n",
       "      <td>Shah Rukh Khan</td>\n",
       "      <td>23</td>\n",
       "    </tr>\n",
       "    <tr>\n",
       "      <th>3</th>\n",
       "      <td>Movie</td>\n",
       "      <td>Boman Irani</td>\n",
       "      <td>23</td>\n",
       "    </tr>\n",
       "    <tr>\n",
       "      <th>4</th>\n",
       "      <td>Movie</td>\n",
       "      <td>Paresh Rawal</td>\n",
       "      <td>22</td>\n",
       "    </tr>\n",
       "    <tr>\n",
       "      <th>...</th>\n",
       "      <td>...</td>\n",
       "      <td>...</td>\n",
       "      <td>...</td>\n",
       "    </tr>\n",
       "    <tr>\n",
       "      <th>20362</th>\n",
       "      <td>Movie</td>\n",
       "      <td>Mike Judge</td>\n",
       "      <td>1</td>\n",
       "    </tr>\n",
       "    <tr>\n",
       "      <th>20363</th>\n",
       "      <td>Movie</td>\n",
       "      <td>Mike Houston</td>\n",
       "      <td>1</td>\n",
       "    </tr>\n",
       "    <tr>\n",
       "      <th>20364</th>\n",
       "      <td>Movie</td>\n",
       "      <td>Mike Hanford</td>\n",
       "      <td>1</td>\n",
       "    </tr>\n",
       "    <tr>\n",
       "      <th>20365</th>\n",
       "      <td>Movie</td>\n",
       "      <td>Mike Ghader</td>\n",
       "      <td>1</td>\n",
       "    </tr>\n",
       "    <tr>\n",
       "      <th>20366</th>\n",
       "      <td>TV Show</td>\n",
       "      <td>Yohei Azakami</td>\n",
       "      <td>1</td>\n",
       "    </tr>\n",
       "  </tbody>\n",
       "</table>\n",
       "<p>20367 rows × 3 columns</p>\n",
       "</div>"
      ],
      "text/plain": [
       "          type         country  count\n",
       "0        Movie     Anupam Kher     29\n",
       "1        Movie         Om Puri     25\n",
       "2        Movie  Shah Rukh Khan     23\n",
       "3        Movie     Boman Irani     23\n",
       "4        Movie    Paresh Rawal     22\n",
       "...        ...             ...    ...\n",
       "20362    Movie      Mike Judge      1\n",
       "20363    Movie    Mike Houston      1\n",
       "20364    Movie    Mike Hanford      1\n",
       "20365    Movie     Mike Ghader      1\n",
       "20366  TV Show   Yohei Azakami      1\n",
       "\n",
       "[20367 rows x 3 columns]"
      ]
     },
     "execution_count": 18,
     "metadata": {},
     "output_type": "execute_result"
    }
   ],
   "source": [
    "temp = list()\n",
    "clean_data = data.dropna()\n",
    "clean_data.reset_index(inplace=True)\n",
    "for ind, element in clean_data.iterrows():\n",
    "    type_show = element['type']\n",
    "    for cast in str(element['cast']).split(','):\n",
    "        temp.append([type_show, cast])\n",
    "cast_data = pd.DataFrame(temp, columns= ['type', 'country'])\n",
    "\n",
    "\n",
    "cast = cast_data.value_counts().to_frame()\n",
    "cast.reset_index(level=[0,1], inplace=True)\n",
    "cast = cast.rename(columns = {0:'count'})\n",
    "cast"
   ]
  },
  {
   "cell_type": "code",
   "execution_count": 19,
   "metadata": {
    "execution": {
     "iopub.execute_input": "2021-01-12T12:26:18.980972Z",
     "iopub.status.busy": "2021-01-12T12:26:18.974638Z",
     "iopub.status.idle": "2021-01-12T12:26:19.253283Z",
     "shell.execute_reply": "2021-01-12T12:26:19.252593Z"
    },
    "papermill": {
     "duration": 0.339005,
     "end_time": "2021-01-12T12:26:19.253399",
     "exception": false,
     "start_time": "2021-01-12T12:26:18.914394",
     "status": "completed"
    },
    "tags": []
   },
   "outputs": [
    {
     "data": {
      "text/plain": [
       "Text(0.5, 1.0, 'Most Famous Cast in TV Show')"
      ]
     },
     "execution_count": 19,
     "metadata": {},
     "output_type": "execute_result"
    },
    {
     "data": {
      "image/png": "[encoded data removed]",
      "text/plain": [
       "<Figure size 720x720 with 1 Axes>"
      ]
     },
     "metadata": {},
     "output_type": "display_data"
    },
    {
     "data": {
      "image/png": "[encoded data removed]",
      "text/plain": [
       "<Figure size 720x720 with 1 Axes>"
      ]
     },
     "metadata": {},
     "output_type": "display_data"
    }
   ],
   "source": [
    "bar, ax = plt.subplots(figsize= (10,10))\n",
    "plt.pie(x = cast['count'][cast['type'] == 'Movie'][:10] , labels = cast['country'][cast['type'] == 'Movie'][:10], autopct=\"%.1f%%\")\n",
    "plt.title('Most Famous Cast in Movies', size=20)\n",
    "bar, ax = plt.subplots(figsize= (10,10))\n",
    "plt.pie(x = cast['count'][cast['type'] == 'TV Show'][:10] , labels = cast['country'][cast['type'] == 'TV Show'][:10], autopct=\"%.1f%%\")\n",
    "plt.title('Most Famous Cast in TV Show', size=20)"
   ]
  },
  {
   "cell_type": "markdown",
   "metadata": {
    "papermill": {
     "duration": 0.050355,
     "end_time": "2021-01-12T12:26:19.354459",
     "exception": false,
     "start_time": "2021-01-12T12:26:19.304104",
     "status": "completed"
    },
    "tags": []
   },
   "source": [
    "# Top Two Genre in last 10 years"
   ]
  },
  {
   "cell_type": "code",
   "execution_count": 20,
   "metadata": {
    "execution": {
     "iopub.execute_input": "2021-01-12T12:26:19.474570Z",
     "iopub.status.busy": "2021-01-12T12:26:19.472731Z",
     "iopub.status.idle": "2021-01-12T12:26:19.851503Z",
     "shell.execute_reply": "2021-01-12T12:26:19.850946Z"
    },
    "papermill": {
     "duration": 0.446419,
     "end_time": "2021-01-12T12:26:19.851620",
     "exception": false,
     "start_time": "2021-01-12T12:26:19.405201",
     "status": "completed"
    },
    "tags": []
   },
   "outputs": [
    {
     "data": {
      "text/html": [
       "<div>\n",
       "<style scoped>\n",
       "    .dataframe tbody tr th:only-of-type {\n",
       "        vertical-align: middle;\n",
       "    }\n",
       "\n",
       "    .dataframe tbody tr th {\n",
       "        vertical-align: top;\n",
       "    }\n",
       "\n",
       "    .dataframe thead th {\n",
       "        text-align: right;\n",
       "    }\n",
       "</style>\n",
       "<table border=\"1\" class=\"dataframe\">\n",
       "  <thead>\n",
       "    <tr style=\"text-align: right;\">\n",
       "      <th></th>\n",
       "      <th>release_year</th>\n",
       "      <th>cast</th>\n",
       "    </tr>\n",
       "  </thead>\n",
       "  <tbody>\n",
       "    <tr>\n",
       "      <th>0</th>\n",
       "      <td>2019</td>\n",
       "      <td>Children &amp; Family Movies</td>\n",
       "    </tr>\n",
       "    <tr>\n",
       "      <th>1</th>\n",
       "      <td>2019</td>\n",
       "      <td>Comedies</td>\n",
       "    </tr>\n",
       "    <tr>\n",
       "      <th>2</th>\n",
       "      <td>2017</td>\n",
       "      <td>Comedies</td>\n",
       "    </tr>\n",
       "    <tr>\n",
       "      <th>3</th>\n",
       "      <td>2014</td>\n",
       "      <td>International Movies</td>\n",
       "    </tr>\n",
       "    <tr>\n",
       "      <th>4</th>\n",
       "      <td>2014</td>\n",
       "      <td>Sci-Fi &amp; Fantasy</td>\n",
       "    </tr>\n",
       "    <tr>\n",
       "      <th>...</th>\n",
       "      <td>...</td>\n",
       "      <td>...</td>\n",
       "    </tr>\n",
       "    <tr>\n",
       "      <th>8360</th>\n",
       "      <td>2019</td>\n",
       "      <td>Korean TV Shows</td>\n",
       "    </tr>\n",
       "    <tr>\n",
       "      <th>8361</th>\n",
       "      <td>2019</td>\n",
       "      <td>Stand-Up Comedy &amp; Talk Shows</td>\n",
       "    </tr>\n",
       "    <tr>\n",
       "      <th>8362</th>\n",
       "      <td>2014</td>\n",
       "      <td>International TV Shows</td>\n",
       "    </tr>\n",
       "    <tr>\n",
       "      <th>8363</th>\n",
       "      <td>2014</td>\n",
       "      <td>Romantic TV Shows</td>\n",
       "    </tr>\n",
       "    <tr>\n",
       "      <th>8364</th>\n",
       "      <td>2014</td>\n",
       "      <td>TV Comedies</td>\n",
       "    </tr>\n",
       "  </tbody>\n",
       "</table>\n",
       "<p>8365 rows × 2 columns</p>\n",
       "</div>"
      ],
      "text/plain": [
       "      release_year                           cast\n",
       "0             2019       Children & Family Movies\n",
       "1             2019                       Comedies\n",
       "2             2017                       Comedies\n",
       "3             2014           International Movies\n",
       "4             2014               Sci-Fi & Fantasy\n",
       "...            ...                            ...\n",
       "8360          2019                Korean TV Shows\n",
       "8361          2019   Stand-Up Comedy & Talk Shows\n",
       "8362          2014         International TV Shows\n",
       "8363          2014              Romantic TV Shows\n",
       "8364          2014                    TV Comedies\n",
       "\n",
       "[8365 rows x 2 columns]"
      ]
     },
     "execution_count": 20,
     "metadata": {},
     "output_type": "execute_result"
    }
   ],
   "source": [
    "temp = list()\n",
    "clean_data = data.dropna()\n",
    "clean_data.reset_index(inplace=True)\n",
    "for ind, element in clean_data.iterrows():\n",
    "    type_show = element['release_year']\n",
    "    for cast in str(element['listed_in']).split(','):\n",
    "        temp.append([type_show, cast])\n",
    "cast_data = pd.DataFrame(temp, columns= ['release_year', 'cast'])\n",
    "cast_data"
   ]
  },
  {
   "cell_type": "code",
   "execution_count": 21,
   "metadata": {
    "execution": {
     "iopub.execute_input": "2021-01-12T12:26:19.966060Z",
     "iopub.status.busy": "2021-01-12T12:26:19.964960Z",
     "iopub.status.idle": "2021-01-12T12:26:19.988924Z",
     "shell.execute_reply": "2021-01-12T12:26:19.988252Z"
    },
    "papermill": {
     "duration": 0.086176,
     "end_time": "2021-01-12T12:26:19.989036",
     "exception": false,
     "start_time": "2021-01-12T12:26:19.902860",
     "status": "completed"
    },
    "tags": []
   },
   "outputs": [],
   "source": [
    "cast = cast_data.value_counts().to_frame()\n",
    "cast.reset_index(level=[0,1], inplace=True)\n",
    "cast = cast.rename(columns = {0:'count'})\n",
    "\n",
    "\n",
    "years = [2019, 2018, 2017, 2016, 2015, 2014, 2013, 2012, 2011, 2010]\n",
    "year_data = list()\n",
    "for year in years:\n",
    "    temp1 = cast[cast['release_year'] == year].iloc[0,:]\n",
    "    temp2 = cast[cast['release_year'] == year].iloc[1,:]\n",
    "    year_data.append(list(temp1))\n",
    "    year_data.append(list(temp2))\n",
    "    \n",
    "year = pd.DataFrame(year_data, columns=('years', 'genre', 'count'))\n"
   ]
  },
  {
   "cell_type": "code",
   "execution_count": 22,
   "metadata": {
    "execution": {
     "iopub.execute_input": "2021-01-12T12:26:20.110349Z",
     "iopub.status.busy": "2021-01-12T12:26:20.108158Z",
     "iopub.status.idle": "2021-01-12T12:26:20.472188Z",
     "shell.execute_reply": "2021-01-12T12:26:20.471134Z"
    },
    "papermill": {
     "duration": 0.432979,
     "end_time": "2021-01-12T12:26:20.472343",
     "exception": false,
     "start_time": "2021-01-12T12:26:20.039364",
     "status": "completed"
    },
    "tags": []
   },
   "outputs": [
    {
     "data": {
      "text/plain": [
       "Text(0.5, 1.0, 'Top Two Genre in last 10 years')"
      ]
     },
     "execution_count": 22,
     "metadata": {},
     "output_type": "execute_result"
    },
    {
     "data": {
      "image/png": "[encoded data removed]",
      "text/plain": [
       "<Figure size 720x720 with 1 Axes>"
      ]
     },
     "metadata": {
      "needs_background": "light"
     },
     "output_type": "display_data"
    }
   ],
   "source": [
    "bar, ax = plt.subplots(figsize=(10,10))\n",
    "sns.barplot(x = 'years', y ='count', hue='genre', data = year)\n",
    "plt.xlabel('Years')\n",
    "plt.ylabel('Frequency')\n",
    "plt.title('Top Two Genre in last 10 years', size=20)"
   ]
  },
  {
   "cell_type": "markdown",
   "metadata": {
    "papermill": {
     "duration": 0.057503,
     "end_time": "2021-01-12T12:26:20.587558",
     "exception": false,
     "start_time": "2021-01-12T12:26:20.530055",
     "status": "completed"
    },
    "tags": []
   },
   "source": [
    "# Maximum Growth of Rating in specific year"
   ]
  },
  {
   "cell_type": "code",
   "execution_count": 23,
   "metadata": {
    "execution": {
     "iopub.execute_input": "2021-01-12T12:26:20.713266Z",
     "iopub.status.busy": "2021-01-12T12:26:20.712003Z",
     "iopub.status.idle": "2021-01-12T12:26:20.767273Z",
     "shell.execute_reply": "2021-01-12T12:26:20.766687Z"
    },
    "papermill": {
     "duration": 0.121986,
     "end_time": "2021-01-12T12:26:20.767397",
     "exception": false,
     "start_time": "2021-01-12T12:26:20.645411",
     "status": "completed"
    },
    "tags": []
   },
   "outputs": [
    {
     "data": {
      "text/html": [
       "<div>\n",
       "<style scoped>\n",
       "    .dataframe tbody tr th:only-of-type {\n",
       "        vertical-align: middle;\n",
       "    }\n",
       "\n",
       "    .dataframe tbody tr th {\n",
       "        vertical-align: top;\n",
       "    }\n",
       "\n",
       "    .dataframe thead th {\n",
       "        text-align: right;\n",
       "    }\n",
       "</style>\n",
       "<table border=\"1\" class=\"dataframe\">\n",
       "  <thead>\n",
       "    <tr style=\"text-align: right;\">\n",
       "      <th></th>\n",
       "      <th>release_year</th>\n",
       "      <th>rating</th>\n",
       "      <th>count</th>\n",
       "    </tr>\n",
       "  </thead>\n",
       "  <tbody>\n",
       "    <tr>\n",
       "      <th>10</th>\n",
       "      <td>2017</td>\n",
       "      <td>TV-PG</td>\n",
       "      <td>105</td>\n",
       "    </tr>\n",
       "    <tr>\n",
       "      <th>0</th>\n",
       "      <td>2018</td>\n",
       "      <td>TV-MA</td>\n",
       "      <td>491</td>\n",
       "    </tr>\n",
       "    <tr>\n",
       "      <th>38</th>\n",
       "      <td>2018</td>\n",
       "      <td>TV-Y7-FV</td>\n",
       "      <td>27</td>\n",
       "    </tr>\n",
       "    <tr>\n",
       "      <th>31</th>\n",
       "      <td>2017</td>\n",
       "      <td>TV-Y7</td>\n",
       "      <td>36</td>\n",
       "    </tr>\n",
       "    <tr>\n",
       "      <th>3</th>\n",
       "      <td>2018</td>\n",
       "      <td>TV-14</td>\n",
       "      <td>291</td>\n",
       "    </tr>\n",
       "    <tr>\n",
       "      <th>16</th>\n",
       "      <td>2016</td>\n",
       "      <td>R</td>\n",
       "      <td>66</td>\n",
       "    </tr>\n",
       "    <tr>\n",
       "      <th>33</th>\n",
       "      <td>2018</td>\n",
       "      <td>TV-Y</td>\n",
       "      <td>30</td>\n",
       "    </tr>\n",
       "    <tr>\n",
       "      <th>19</th>\n",
       "      <td>2015</td>\n",
       "      <td>NR</td>\n",
       "      <td>55</td>\n",
       "    </tr>\n",
       "    <tr>\n",
       "      <th>55</th>\n",
       "      <td>2017</td>\n",
       "      <td>PG-13</td>\n",
       "      <td>22</td>\n",
       "    </tr>\n",
       "    <tr>\n",
       "      <th>42</th>\n",
       "      <td>2019</td>\n",
       "      <td>TV-G</td>\n",
       "      <td>25</td>\n",
       "    </tr>\n",
       "    <tr>\n",
       "      <th>32</th>\n",
       "      <td>2018</td>\n",
       "      <td>PG</td>\n",
       "      <td>30</td>\n",
       "    </tr>\n",
       "    <tr>\n",
       "      <th>168</th>\n",
       "      <td>2016</td>\n",
       "      <td>G</td>\n",
       "      <td>4</td>\n",
       "    </tr>\n",
       "    <tr>\n",
       "      <th>200</th>\n",
       "      <td>2016</td>\n",
       "      <td>UR</td>\n",
       "      <td>3</td>\n",
       "    </tr>\n",
       "    <tr>\n",
       "      <th>367</th>\n",
       "      <td>2018</td>\n",
       "      <td>NC-17</td>\n",
       "      <td>1</td>\n",
       "    </tr>\n",
       "  </tbody>\n",
       "</table>\n",
       "</div>"
      ],
      "text/plain": [
       "    release_year    rating count\n",
       "10          2017     TV-PG   105\n",
       "0           2018     TV-MA   491\n",
       "38          2018  TV-Y7-FV    27\n",
       "31          2017     TV-Y7    36\n",
       "3           2018     TV-14   291\n",
       "16          2016         R    66\n",
       "33          2018      TV-Y    30\n",
       "19          2015        NR    55\n",
       "55          2017     PG-13    22\n",
       "42          2019      TV-G    25\n",
       "32          2018        PG    30\n",
       "168         2016         G     4\n",
       "200         2016        UR     3\n",
       "367         2018     NC-17     1"
      ]
     },
     "execution_count": 23,
     "metadata": {},
     "output_type": "execute_result"
    }
   ],
   "source": [
    "temp = data[['release_year', 'rating']]\n",
    "temp = temp.value_counts().to_frame()\n",
    "temp.reset_index(level =  [0,1], inplace = True)\n",
    "temp = temp.rename(columns = {0:'count'})\n",
    "rating = pd.DataFrame([],columns = ('release_year', 'rating', 'count'))\n",
    "for rating_element in data['rating'].unique():\n",
    "    rating = pd.concat([rating, temp[temp['rating'] == rating_element].iloc[:1,:]])\n",
    "rating"
   ]
  },
  {
   "cell_type": "code",
   "execution_count": 24,
   "metadata": {
    "execution": {
     "iopub.execute_input": "2021-01-12T12:26:20.991953Z",
     "iopub.status.busy": "2021-01-12T12:26:20.987733Z",
     "iopub.status.idle": "2021-01-12T12:26:21.585941Z",
     "shell.execute_reply": "2021-01-12T12:26:21.586940Z"
    },
    "papermill": {
     "duration": 0.764774,
     "end_time": "2021-01-12T12:26:21.587104",
     "exception": false,
     "start_time": "2021-01-12T12:26:20.822330",
     "status": "completed"
    },
    "tags": []
   },
   "outputs": [
    {
     "data": {
      "text/plain": [
       "Text(0.5, 1.0, 'Maximum Growth of Rating in specific year')"
      ]
     },
     "execution_count": 24,
     "metadata": {},
     "output_type": "execute_result"
    },
    {
     "data": {
      "image/png": "[encoded data removed]",
      "text/plain": [
       "<Figure size 720x720 with 1 Axes>"
      ]
     },
     "metadata": {
      "needs_background": "light"
     },
     "output_type": "display_data"
    }
   ],
   "source": [
    "bar, ax = plt.subplots(figsize = (10, 10))\n",
    "sns.barplot(x = 'count', y ='rating', data = rating, hue = 'release_year')\n",
    "plt.xlabel('Count')\n",
    "plt.ylabel('Ratings')\n",
    "plt.title('Maximum Growth of Rating in specific year', size=18)"
   ]
  },
  {
   "cell_type": "markdown",
   "metadata": {
    "papermill": {
     "duration": 0.060216,
     "end_time": "2021-01-12T12:26:21.708526",
     "exception": false,
     "start_time": "2021-01-12T12:26:21.648310",
     "status": "completed"
    },
    "tags": []
   },
   "source": [
    "# Content Based Recommendation System"
   ]
  },
  {
   "cell_type": "code",
   "execution_count": 25,
   "metadata": {
    "execution": {
     "iopub.execute_input": "2021-01-12T12:26:21.829797Z",
     "iopub.status.busy": "2021-01-12T12:26:21.829081Z",
     "iopub.status.idle": "2021-01-12T12:26:22.615716Z",
     "shell.execute_reply": "2021-01-12T12:26:22.614933Z"
    },
    "papermill": {
     "duration": 0.848086,
     "end_time": "2021-01-12T12:26:22.615850",
     "exception": false,
     "start_time": "2021-01-12T12:26:21.767764",
     "status": "completed"
    },
    "tags": []
   },
   "outputs": [],
   "source": [
    "from nltk.corpus import stopwords  \n",
    "from nltk.tokenize import word_tokenize  \n",
    "import nltk\n",
    "import re"
   ]
  },
  {
   "cell_type": "code",
   "execution_count": 26,
   "metadata": {
    "execution": {
     "iopub.execute_input": "2021-01-12T12:26:22.749166Z",
     "iopub.status.busy": "2021-01-12T12:26:22.748485Z",
     "iopub.status.idle": "2021-01-12T12:26:22.752955Z",
     "shell.execute_reply": "2021-01-12T12:26:22.753425Z"
    },
    "papermill": {
     "duration": 0.0824,
     "end_time": "2021-01-12T12:26:22.753569",
     "exception": false,
     "start_time": "2021-01-12T12:26:22.671169",
     "status": "completed"
    },
    "tags": []
   },
   "outputs": [
    {
     "data": {
      "text/html": [
       "<div>\n",
       "<style scoped>\n",
       "    .dataframe tbody tr th:only-of-type {\n",
       "        vertical-align: middle;\n",
       "    }\n",
       "\n",
       "    .dataframe tbody tr th {\n",
       "        vertical-align: top;\n",
       "    }\n",
       "\n",
       "    .dataframe thead th {\n",
       "        text-align: right;\n",
       "    }\n",
       "</style>\n",
       "<table border=\"1\" class=\"dataframe\">\n",
       "  <thead>\n",
       "    <tr style=\"text-align: right;\">\n",
       "      <th></th>\n",
       "      <th>show_id</th>\n",
       "      <th>type</th>\n",
       "      <th>title</th>\n",
       "      <th>director</th>\n",
       "      <th>cast</th>\n",
       "      <th>country</th>\n",
       "      <th>date_added</th>\n",
       "      <th>release_year</th>\n",
       "      <th>rating</th>\n",
       "      <th>duration</th>\n",
       "      <th>listed_in</th>\n",
       "      <th>description</th>\n",
       "    </tr>\n",
       "  </thead>\n",
       "  <tbody>\n",
       "    <tr>\n",
       "      <th>0</th>\n",
       "      <td>81145628</td>\n",
       "      <td>Movie</td>\n",
       "      <td>Norm of the North: King Sized Adventure</td>\n",
       "      <td>Richard Finn, Tim Maltby</td>\n",
       "      <td>Alan Marriott, Andrew Toth, Brian Dobson, Cole...</td>\n",
       "      <td>United States, India, South Korea, China</td>\n",
       "      <td>September 9, 2019</td>\n",
       "      <td>2019</td>\n",
       "      <td>TV-PG</td>\n",
       "      <td>90 min</td>\n",
       "      <td>Children &amp; Family Movies, Comedies</td>\n",
       "      <td>Before planning an awesome wedding for his gra...</td>\n",
       "    </tr>\n",
       "    <tr>\n",
       "      <th>1</th>\n",
       "      <td>80117401</td>\n",
       "      <td>Movie</td>\n",
       "      <td>Jandino: Whatever it Takes</td>\n",
       "      <td>NaN</td>\n",
       "      <td>Jandino Asporaat</td>\n",
       "      <td>United Kingdom</td>\n",
       "      <td>September 9, 2016</td>\n",
       "      <td>2016</td>\n",
       "      <td>TV-MA</td>\n",
       "      <td>94 min</td>\n",
       "      <td>Stand-Up Comedy</td>\n",
       "      <td>Jandino Asporaat riffs on the challenges of ra...</td>\n",
       "    </tr>\n",
       "    <tr>\n",
       "      <th>2</th>\n",
       "      <td>70234439</td>\n",
       "      <td>TV Show</td>\n",
       "      <td>Transformers Prime</td>\n",
       "      <td>NaN</td>\n",
       "      <td>Peter Cullen, Sumalee Montano, Frank Welker, J...</td>\n",
       "      <td>United States</td>\n",
       "      <td>September 8, 2018</td>\n",
       "      <td>2013</td>\n",
       "      <td>TV-Y7-FV</td>\n",
       "      <td>1 Season</td>\n",
       "      <td>Kids' TV</td>\n",
       "      <td>With the help of three human allies, the Autob...</td>\n",
       "    </tr>\n",
       "    <tr>\n",
       "      <th>3</th>\n",
       "      <td>80058654</td>\n",
       "      <td>TV Show</td>\n",
       "      <td>Transformers: Robots in Disguise</td>\n",
       "      <td>NaN</td>\n",
       "      <td>Will Friedle, Darren Criss, Constance Zimmer, ...</td>\n",
       "      <td>United States</td>\n",
       "      <td>September 8, 2018</td>\n",
       "      <td>2016</td>\n",
       "      <td>TV-Y7</td>\n",
       "      <td>1 Season</td>\n",
       "      <td>Kids' TV</td>\n",
       "      <td>When a prison ship crash unleashes hundreds of...</td>\n",
       "    </tr>\n",
       "    <tr>\n",
       "      <th>4</th>\n",
       "      <td>80125979</td>\n",
       "      <td>Movie</td>\n",
       "      <td>#realityhigh</td>\n",
       "      <td>Fernando Lebrija</td>\n",
       "      <td>Nesta Cooper, Kate Walsh, John Michael Higgins...</td>\n",
       "      <td>United States</td>\n",
       "      <td>September 8, 2017</td>\n",
       "      <td>2017</td>\n",
       "      <td>TV-14</td>\n",
       "      <td>99 min</td>\n",
       "      <td>Comedies</td>\n",
       "      <td>When nerdy high schooler Dani finally attracts...</td>\n",
       "    </tr>\n",
       "  </tbody>\n",
       "</table>\n",
       "</div>"
      ],
      "text/plain": [
       "    show_id     type                                    title  \\\n",
       "0  81145628    Movie  Norm of the North: King Sized Adventure   \n",
       "1  80117401    Movie               Jandino: Whatever it Takes   \n",
       "2  70234439  TV Show                       Transformers Prime   \n",
       "3  80058654  TV Show         Transformers: Robots in Disguise   \n",
       "4  80125979    Movie                             #realityhigh   \n",
       "\n",
       "                   director  \\\n",
       "0  Richard Finn, Tim Maltby   \n",
       "1                       NaN   \n",
       "2                       NaN   \n",
       "3                       NaN   \n",
       "4          Fernando Lebrija   \n",
       "\n",
       "                                                cast  \\\n",
       "0  Alan Marriott, Andrew Toth, Brian Dobson, Cole...   \n",
       "1                                   Jandino Asporaat   \n",
       "2  Peter Cullen, Sumalee Montano, Frank Welker, J...   \n",
       "3  Will Friedle, Darren Criss, Constance Zimmer, ...   \n",
       "4  Nesta Cooper, Kate Walsh, John Michael Higgins...   \n",
       "\n",
       "                                    country         date_added  release_year  \\\n",
       "0  United States, India, South Korea, China  September 9, 2019          2019   \n",
       "1                            United Kingdom  September 9, 2016          2016   \n",
       "2                             United States  September 8, 2018          2013   \n",
       "3                             United States  September 8, 2018          2016   \n",
       "4                             United States  September 8, 2017          2017   \n",
       "\n",
       "     rating  duration                           listed_in  \\\n",
       "0     TV-PG    90 min  Children & Family Movies, Comedies   \n",
       "1     TV-MA    94 min                     Stand-Up Comedy   \n",
       "2  TV-Y7-FV  1 Season                            Kids' TV   \n",
       "3     TV-Y7  1 Season                            Kids' TV   \n",
       "4     TV-14    99 min                            Comedies   \n",
       "\n",
       "                                         description  \n",
       "0  Before planning an awesome wedding for his gra...  \n",
       "1  Jandino Asporaat riffs on the challenges of ra...  \n",
       "2  With the help of three human allies, the Autob...  \n",
       "3  When a prison ship crash unleashes hundreds of...  \n",
       "4  When nerdy high schooler Dani finally attracts...  "
      ]
     },
     "execution_count": 26,
     "metadata": {},
     "output_type": "execute_result"
    }
   ],
   "source": [
    "data.head()"
   ]
  },
  {
   "cell_type": "code",
   "execution_count": 27,
   "metadata": {
    "execution": {
     "iopub.execute_input": "2021-01-12T12:26:22.877163Z",
     "iopub.status.busy": "2021-01-12T12:26:22.876441Z",
     "iopub.status.idle": "2021-01-12T12:26:22.882938Z",
     "shell.execute_reply": "2021-01-12T12:26:22.882291Z"
    },
    "papermill": {
     "duration": 0.073851,
     "end_time": "2021-01-12T12:26:22.883051",
     "exception": false,
     "start_time": "2021-01-12T12:26:22.809200",
     "status": "completed"
    },
    "tags": []
   },
   "outputs": [
    {
     "data": {
      "text/plain": [
       "show_id            0\n",
       "type               0\n",
       "title              0\n",
       "director        1969\n",
       "cast             570\n",
       "country          476\n",
       "date_added        11\n",
       "release_year       0\n",
       "rating            10\n",
       "duration           0\n",
       "listed_in          0\n",
       "description        0\n",
       "dtype: int64"
      ]
     },
     "execution_count": 27,
     "metadata": {},
     "output_type": "execute_result"
    }
   ],
   "source": [
    "data.isnull().sum()"
   ]
  },
  {
   "cell_type": "code",
   "execution_count": 28,
   "metadata": {
    "execution": {
     "iopub.execute_input": "2021-01-12T12:26:23.018891Z",
     "iopub.status.busy": "2021-01-12T12:26:23.017993Z",
     "iopub.status.idle": "2021-01-12T12:26:23.020364Z",
     "shell.execute_reply": "2021-01-12T12:26:23.020817Z"
    },
    "papermill": {
     "duration": 0.081926,
     "end_time": "2021-01-12T12:26:23.020968",
     "exception": false,
     "start_time": "2021-01-12T12:26:22.939042",
     "status": "completed"
    },
    "tags": []
   },
   "outputs": [],
   "source": [
    "data['director'] = data['director'].fillna('')\n",
    "data['cast'] = data['cast'].fillna('')\n",
    "data['text'] = data['title'] + ' '+data['director'] + ' '+ data['cast']+ ' ' +data['listed_in'] + ' '+data['description']"
   ]
  },
  {
   "cell_type": "code",
   "execution_count": 29,
   "metadata": {
    "execution": {
     "iopub.execute_input": "2021-01-12T12:26:23.141349Z",
     "iopub.status.busy": "2021-01-12T12:26:23.140621Z",
     "iopub.status.idle": "2021-01-12T12:26:23.143900Z",
     "shell.execute_reply": "2021-01-12T12:26:23.143274Z"
    },
    "papermill": {
     "duration": 0.067202,
     "end_time": "2021-01-12T12:26:23.144005",
     "exception": false,
     "start_time": "2021-01-12T12:26:23.076803",
     "status": "completed"
    },
    "tags": []
   },
   "outputs": [],
   "source": [
    "def preprocess(text):\n",
    "    text = re.sub('[^A-z]', ' ', text)\n",
    "    stop_words = set(stopwords.words('english'))  \n",
    "    word_tokens = word_tokenize(text)  \n",
    "    lemmatizer = nltk.stem.WordNetLemmatizer()\n",
    "    \n",
    "    filtered_sentence = []  \n",
    "    for w in word_tokens:  \n",
    "        if w not in stop_words:  \n",
    "            filtered_sentence.append(lemmatizer.lemmatize(w))\n",
    "    filtered = ' '.join([x for x in filtered_sentence])\n",
    "    return filtered.lower().strip()"
   ]
  },
  {
   "cell_type": "code",
   "execution_count": 30,
   "metadata": {
    "execution": {
     "iopub.execute_input": "2021-01-12T12:26:23.263554Z",
     "iopub.status.busy": "2021-01-12T12:26:23.262840Z",
     "iopub.status.idle": "2021-01-12T12:26:31.991557Z",
     "shell.execute_reply": "2021-01-12T12:26:31.990816Z"
    },
    "papermill": {
     "duration": 8.791597,
     "end_time": "2021-01-12T12:26:31.991685",
     "exception": false,
     "start_time": "2021-01-12T12:26:23.200088",
     "status": "completed"
    },
    "tags": []
   },
   "outputs": [],
   "source": [
    "data['text'] = data['text'].apply(lambda x : preprocess(x))"
   ]
  },
  {
   "cell_type": "code",
   "execution_count": 31,
   "metadata": {
    "execution": {
     "iopub.execute_input": "2021-01-12T12:26:32.139599Z",
     "iopub.status.busy": "2021-01-12T12:26:32.118475Z",
     "iopub.status.idle": "2021-01-12T12:26:32.622813Z",
     "shell.execute_reply": "2021-01-12T12:26:32.622170Z"
    },
    "papermill": {
     "duration": 0.574183,
     "end_time": "2021-01-12T12:26:32.622940",
     "exception": false,
     "start_time": "2021-01-12T12:26:32.048757",
     "status": "completed"
    },
    "tags": []
   },
   "outputs": [],
   "source": [
    "from sklearn.feature_extraction.text import TfidfVectorizer\n",
    "vectorizer = TfidfVectorizer()\n",
    "text_features = vectorizer.fit_transform(data['text'])"
   ]
  },
  {
   "cell_type": "code",
   "execution_count": 32,
   "metadata": {
    "execution": {
     "iopub.execute_input": "2021-01-12T12:26:32.744113Z",
     "iopub.status.busy": "2021-01-12T12:26:32.743323Z",
     "iopub.status.idle": "2021-01-12T12:26:33.870213Z",
     "shell.execute_reply": "2021-01-12T12:26:33.869527Z"
    },
    "papermill": {
     "duration": 1.188569,
     "end_time": "2021-01-12T12:26:33.870355",
     "exception": false,
     "start_time": "2021-01-12T12:26:32.681786",
     "status": "completed"
    },
    "tags": []
   },
   "outputs": [],
   "source": [
    "from sklearn.metrics.pairwise import cosine_similarity\n",
    "similarity_matrix = cosine_similarity(text_features)    "
   ]
  },
  {
   "cell_type": "code",
   "execution_count": 33,
   "metadata": {
    "execution": {
     "iopub.execute_input": "2021-01-12T12:26:33.994602Z",
     "iopub.status.busy": "2021-01-12T12:26:33.993751Z",
     "iopub.status.idle": "2021-01-12T12:26:33.996361Z",
     "shell.execute_reply": "2021-01-12T12:26:33.996833Z"
    },
    "papermill": {
     "duration": 0.069169,
     "end_time": "2021-01-12T12:26:33.996977",
     "exception": false,
     "start_time": "2021-01-12T12:26:33.927808",
     "status": "completed"
    },
    "tags": []
   },
   "outputs": [],
   "source": [
    "def get_recommendation(movie_name):\n",
    "        movie_index = data[data['title'] == movie_name].index\n",
    "        movie_similarity = similarity_matrix[movie_index]\n",
    "        movie_data = pd.DataFrame({'cosine_similarity':movie_similarity[0], 'index':np.arange(6234)})\n",
    "        movie_data = movie_data.sort_values(by = 'cosine_similarity', ascending = False)\n",
    "        topn=10\n",
    "        movie_ids = movie_data['index'][1:topn]\n",
    "        recommendation_movies = list()\n",
    "        for temp in movie_ids:\n",
    "            movie = data['title'][temp]\n",
    "            recommendation_movies.append(movie)\n",
    "        return  recommendation_movies\n",
    "            "
   ]
  },
  {
   "cell_type": "code",
   "execution_count": 34,
   "metadata": {
    "execution": {
     "iopub.execute_input": "2021-01-12T12:26:34.116744Z",
     "iopub.status.busy": "2021-01-12T12:26:34.115441Z",
     "iopub.status.idle": "2021-01-12T12:26:34.124699Z",
     "shell.execute_reply": "2021-01-12T12:26:34.125178Z"
    },
    "papermill": {
     "duration": 0.072304,
     "end_time": "2021-01-12T12:26:34.125340",
     "exception": false,
     "start_time": "2021-01-12T12:26:34.053036",
     "status": "completed"
    },
    "tags": []
   },
   "outputs": [
    {
     "data": {
      "text/plain": [
       "['Transformers Prime',\n",
       " 'Hans Zimmer: Live in Prague',\n",
       " 'Transformers: Cyberverse',\n",
       " 'The Assassination of Gianni Versace',\n",
       " 'Lego DC Comics: Batman Be-Leaguered',\n",
       " 'Yu-Gi-Oh!',\n",
       " 'American Masters: Ted Williams',\n",
       " 'Be Here Now',\n",
       " 'Chappaquiddick']"
      ]
     },
     "execution_count": 34,
     "metadata": {},
     "output_type": "execute_result"
    }
   ],
   "source": [
    "get_recommendation('Transformers: Robots in Disguise')"
   ]
  },
  {
   "cell_type": "markdown",
   "metadata": {
    "papermill": {
     "duration": 0.056227,
     "end_time": "2021-01-12T12:26:34.239493",
     "exception": false,
     "start_time": "2021-01-12T12:26:34.183266",
     "status": "completed"
    },
    "tags": []
   },
   "source": [
    "# Recommendation For Completely New Movie"
   ]
  },
  {
   "cell_type": "code",
   "execution_count": 35,
   "metadata": {
    "execution": {
     "iopub.execute_input": "2021-01-12T12:26:34.364418Z",
     "iopub.status.busy": "2021-01-12T12:26:34.363698Z",
     "iopub.status.idle": "2021-01-12T12:26:53.593052Z",
     "shell.execute_reply": "2021-01-12T12:26:53.592250Z"
    },
    "papermill": {
     "duration": 19.295967,
     "end_time": "2021-01-12T12:26:53.593187",
     "exception": false,
     "start_time": "2021-01-12T12:26:34.297220",
     "status": "completed"
    },
    "tags": []
   },
   "outputs": [],
   "source": [
    "new_movie = {'movie_name' :'taare zameen par', 'genre' :'childrens film, drama', 'director' :'aamir khan, amole gupte', 'cast' :'Aamir Khan, darsheel safary', 'description':' The film explores the life and imagination of Ishaan, an 8-year-old dyslexic child. Although he excels in art, his poor academic performance leads his parents to send him to a boarding school. Ishaans new art teacher suspects that he is dyslexic and helps him to overcome his disability. Darsheel Safary stars as 8-year-old Ishaan, and Aamir Khan plays his art teacher.'}\n",
    "new_movie = preprocess(' '.join([x for x in new_movie.values()]))\n",
    "new_movie_features = vectorizer.transform([new_movie])\n",
    "\n",
    "\n",
    "all_features = np.concatenate((text_features.toarray(), new_movie_features.toarray()))\n",
    "similarity_matrix = cosine_similarity(all_features)    \n",
    "temp = pd.DataFrame({'similarity':similarity_matrix[similarity_matrix.shape[0]-1], 'index':np.arange(6235)})\n",
    "temp = temp.sort_values(by='similarity', ascending=False)\n"
   ]
  },
  {
   "cell_type": "code",
   "execution_count": 36,
   "metadata": {
    "execution": {
     "iopub.execute_input": "2021-01-12T12:26:53.728360Z",
     "iopub.status.busy": "2021-01-12T12:26:53.727505Z",
     "iopub.status.idle": "2021-01-12T12:26:53.732424Z",
     "shell.execute_reply": "2021-01-12T12:26:53.733355Z"
    },
    "papermill": {
     "duration": 0.080955,
     "end_time": "2021-01-12T12:26:53.733563",
     "exception": false,
     "start_time": "2021-01-12T12:26:53.652608",
     "status": "completed"
    },
    "tags": []
   },
   "outputs": [
    {
     "name": "stdout",
     "output_type": "stream",
     "text": [
      "Taare Zameen Par\n",
      "PK\n",
      "Dil Chahta Hai\n",
      "Andaz Apna Apna\n",
      "Zokkomon\n",
      "Janaan\n",
      "Unbroken\n",
      "Madness in the Desert\n",
      "Talaash\n",
      "Lagaan\n"
     ]
    }
   ],
   "source": [
    "topn=10\n",
    "for element in range(1, topn+1):\n",
    "    index = list(temp['index'])[element]\n",
    "    print(data['title'][index])"
   ]
  },
  {
   "cell_type": "markdown",
   "metadata": {
    "papermill": {
     "duration": 0.05775,
     "end_time": "2021-01-12T12:26:53.849925",
     "exception": false,
     "start_time": "2021-01-12T12:26:53.792175",
     "status": "completed"
    },
    "tags": []
   },
   "source": [
    "# > **Please give suggestions and upvote if you like**"
   ]
  }
 ],
 "metadata": {
  "kernelspec": {
   "display_name": "Python 3",
   "language": "python",
   "name": "python3"
  },
  "language_info": {
   "codemirror_mode": {
    "name": "ipython",
    "version": 3
   },
   "file_extension": ".py",
   "mimetype": "text/x-python",
   "name": "python",
   "nbconvert_exporter": "python",
   "pygments_lexer": "ipython3",
   "version": "3.7.6"
  },
  "papermill": {
   "duration": 46.791298,
   "end_time": "2021-01-12T12:26:54.016250",
   "environment_variables": {},
   "exception": null,
   "input_path": "__notebook__.ipynb",
   "output_path": "__notebook__.ipynb",
   "parameters": {},
   "start_time": "2021-01-12T12:26:07.224952",
   "version": "2.1.0"
  }
 },
 "nbformat": 4,
 "nbformat_minor": 4
}
